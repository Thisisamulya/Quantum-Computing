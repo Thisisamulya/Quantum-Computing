{
 "cells": [
  {
   "cell_type": "markdown",
   "metadata": {},
   "source": [
    "# Advantages of Quantum Computers in Breaking RSA.\n",
    "---\n",
    "\n",
    "## Abstract\n",
    "RSA is a widely used public-key cryptosystem that is based on the difficulty of factoring large integers. The security of RSA is based on the assumption that factoring large integers is computationally infeasible. However, quantum computers have the potential to break RSA by using Shor's algorithm to factor large integers efficiently. This paper explores the advantages of quantum computers in breaking RSA and the implications for the future of cryptography."
   ]
  },
  {
   "cell_type": "markdown",
   "metadata": {},
   "source": [
    "# Aim\n",
    "The aim of this paper is to explore the advantages of quantum computers in breaking RSA and the implications for the future of cryptography. We will discuss the limitations of classical computers in factoring large integers and how quantum computers can overcome these limitations using Shor's algorithm. We will also discuss the potential impact of quantum computers on the security of RSA and the need for new cryptographic algorithms that are resistant to quantum attacks."
   ]
  },
  {
   "cell_type": "markdown",
   "metadata": {},
   "source": [
    "\n",
    "## Introduction\n",
    "**RSA (Rivest-Shamir-Adleman)** is a public-key cryptosystem that is widely used for secure data transmission. It is based on the mathematical difficulty of factoring the product of two large prime numbers. The RSA algorithm involves three main steps: key generation, encryption, and decryption. In key generation, two large prime numbers are chosen and used to generate a public key and a private key. The public key is used for encryption, while the private key is used for decryption. The security of RSA relies on the fact that, while it is easy to multiply two large primes together, it is extremely difficult to factor their product back into the original primes."
   ]
  },
  {
   "cell_type": "code",
   "execution_count": 2,
   "metadata": {},
   "outputs": [
    {
     "name": "stdout",
     "output_type": "stream",
     "text": [
      "Collecting sympy\n",
      "  Using cached sympy-1.13.3-py3-none-any.whl.metadata (12 kB)\n",
      "Collecting mpmath<1.4,>=1.1.0 (from sympy)\n",
      "  Using cached mpmath-1.3.0-py3-none-any.whl.metadata (8.6 kB)\n",
      "Using cached sympy-1.13.3-py3-none-any.whl (6.2 MB)\n",
      "Using cached mpmath-1.3.0-py3-none-any.whl (536 kB)\n",
      "Installing collected packages: mpmath, sympy\n",
      "Successfully installed mpmath-1.3.0 sympy-1.13.3\n",
      "Note: you may need to restart the kernel to use updated packages.\n"
     ]
    }
   ],
   "source": [
    "%pip install sympy"
   ]
  },
  {
   "cell_type": "markdown",
   "metadata": {},
   "source": [
    "#"
   ]
  },
  {
   "cell_type": "code",
   "execution_count": 3,
   "metadata": {},
   "outputs": [
    {
     "data": {
      "text/plain": [
       "(122, 12)"
      ]
     },
     "execution_count": 3,
     "metadata": {},
     "output_type": "execute_result"
    }
   ],
   "source": [
    "# Step 1: Key Generation\n",
    "import random\n",
    "# Ensure sympy is installed\n",
    "\n",
    "from sympy import gcd, isprime, mod_inverse\n",
    "\n",
    "def generate_rsa_keypair(p, q):\n",
    "    # Check if both numbers are prime\n",
    "    if not (isprime(p) and isprime(q)):\n",
    "        raise ValueError('Both numbers must be prime.')\n",
    "    elif p == q:\n",
    "        raise ValueError('p and q cannot be the same')\n",
    "    \n",
    "    # Compute n (modulus) and Euler's Totient (phi_n)\n",
    "    n = p * q\n",
    "    phi_n = (p - 1) * (q - 1)\n",
    "\n",
    "    # Choose e such that 1 < e < phi_n and gcd(e, phi_n) = 1\n",
    "    e = 5  # Example choice, typically chosen as a small prime number\n",
    "\n",
    "    g = gcd(e, phi_n)\n",
    "    while g != 1:\n",
    "        e = random.randrange(2, phi_n - 1)\n",
    "        g = gcd(e, phi_n)\n",
    "\n",
    "    # Compute d such that (d * e) % phi_n = 1\n",
    "    d = mod_inverse(e, phi_n)\n",
    "    \n",
    "    # Return public key (e, n) and private key (d, n)\n",
    "    return ((e, n), (d, n))\n",
    "\n",
    "\n",
    "# Example usage\n",
    "p = 17\n",
    "q = 19\n",
    "\n",
    "# Generate public key (e, n) and private key (d, n)\n",
    "public_key, private_key = generate_rsa_keypair(p, q)\n",
    "\n",
    "# Step 2: Encryption\n",
    "def encrypt(message, public_key):\n",
    "    e, n = public_key\n",
    "    # Encrypt the message using the public key\n",
    "    return pow(message, e, n)\n",
    "\n",
    "# Step 3: Decryption\n",
    "def decrypt(ciphertext, private_key):\n",
    "    d, n = private_key\n",
    "    # Decrypt the ciphertext using the private key\n",
    "    return pow(ciphertext, d, n)\n",
    "\n",
    "# Example usage\n",
    "message = 12  # Example message\n",
    "ciphertext = encrypt(message, public_key)\n",
    "decrypted_message = decrypt(ciphertext, private_key)\n",
    "\n",
    "(ciphertext, decrypted_message)"
   ]
  },
  {
   "cell_type": "markdown",
   "metadata": {},
   "source": [
    "1. Choose **two large prime numbers**: \\( p \\) and \\( q \\).  \n",
    "2. Compute \\( N = p \\times q \\) (modulus).  \n",
    "3. Compute **Euler’s Totient** \\( \\phi(N) = (p-1) \\times (q-1) \\).  \n",
    "4. Choose a **public exponent** \\( e \\) (typically 65537).  \n",
    "5. Compute **private key** \\( d \\), where \\( d \\times e \\equiv 1 \\mod \\phi(N) \\).  \n",
    "6. **Encryption:** \\( C = M^e \\mod N \\).  \n",
    "7. **Decryption:** \\( M = C^d \\mod N \\).  "
   ]
  }
 ],
 "metadata": {
  "kernelspec": {
   "display_name": "Python 3",
   "language": "python",
   "name": "python3"
  },
  "language_info": {
   "codemirror_mode": {
    "name": "ipython",
    "version": 3
   },
   "file_extension": ".py",
   "mimetype": "text/x-python",
   "name": "python",
   "nbconvert_exporter": "python",
   "pygments_lexer": "ipython3",
   "version": "3.13.2"
  }
 },
 "nbformat": 4,
 "nbformat_minor": 2
}
